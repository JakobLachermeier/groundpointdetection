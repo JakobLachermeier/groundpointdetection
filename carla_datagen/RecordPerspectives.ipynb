{
 "cells": [
  {
   "cell_type": "markdown",
   "id": "e80f33ec",
   "metadata": {},
   "source": [
    "# Basic Setup"
   ]
  },
  {
   "cell_type": "markdown",
   "id": "5cda4604",
   "metadata": {},
   "source": [
    "import libraries and connect to simulator (close in task manager if restarted)"
   ]
  },
  {
   "cell_type": "code",
   "execution_count": 72,
   "id": "c43ddae6",
   "metadata": {},
   "outputs": [
    {
     "name": "stdout",
     "output_type": "stream",
     "text": [
      "The autoreload extension is already loaded. To reload it, use:\n",
      "  %reload_ext autoreload\n"
     ]
    }
   ],
   "source": [
    "# Import the CARLA Python API library and some utils\n",
    "%load_ext autoreload\n",
    "%autoreload 2\n",
    "\n",
    "import carla \n",
    "import math\n",
    "import random \n",
    "import time\n",
    "import numpy\n",
    "from functions import *\n",
    "\n",
    "# Connect to the client and get the world object\n",
    "client = carla.Client('localhost', 2000)\n",
    "client.set_timeout(10.0)\n",
    "world = client.get_world()\n",
    "#save default settings for later\n",
    "init_settings = world.get_settings()"
   ]
  },
  {
   "cell_type": "code",
   "execution_count": null,
   "id": "6c96ec51",
   "metadata": {},
   "outputs": [],
   "source": [
    "#set map\n",
    "#print(client.get_available_maps())\n",
    "world = client.load_world('Town04_Opt') "
   ]
  },
  {
   "cell_type": "code",
   "execution_count": 2,
   "metadata": {},
   "outputs": [
    {
     "data": {
      "text/plain": [
       "8779"
      ]
     },
     "execution_count": 2,
     "metadata": {},
     "output_type": "execute_result"
    }
   ],
   "source": [
    "# Get the blueprint library and the spawn points for the map\n",
    "bp_lib = world.get_blueprint_library()\n",
    "spawn_points = world.get_map().get_spawn_points()\n",
    "\n",
    "#setup traffic manager\n",
    "tm = client.get_trafficmanager(8000) #Port for TM =8000\n",
    "\n",
    "# Add traffic to the simulation\n",
    "for i in range(100): \n",
    "    vehicle_bp = random.choice(bp_lib.filter('vehicle')) \n",
    "    npc = world.try_spawn_actor(vehicle_bp, random.choice(spawn_points)) \n",
    "world.tick()\n",
    "\n",
    "# Set the all vehicles in motion using the Traffic Manager\n",
    "tm_port = tm.get_port()\n",
    "for v in world.get_actors().filter('*vehicle*'): \n",
    "    v.set_autopilot(True,tm_port) \n",
    "\n",
    "# Set the simulation to sync mode\n",
    "settings = world.get_settings()\n",
    "settings.synchronous_mode = True\n",
    "#time step used throughout\n",
    "ticktime = 0.10 #max 0.10\n",
    "settings.fixed_delta_seconds = ticktime\n",
    "settings.max_substep_delta_time = ticktime/10 #max 0.01\n",
    "# After that, set the TM to sync mode\n",
    "#tm.set_synchronous_mode(True)\n",
    "\n",
    "world.apply_settings(settings)"
   ]
  },
  {
   "cell_type": "markdown",
   "id": "12caa0b7",
   "metadata": {},
   "source": [
    "Trying to find a specific Intersection to place static sensors"
   ]
  },
  {
   "cell_type": "code",
   "execution_count": 3,
   "id": "c13d735c",
   "metadata": {},
   "outputs": [],
   "source": [
    "# Move the spectator to specific intersection\n",
    "inter1tv = carla.Transform(\n",
    "    carla.Location(\n",
    "        x=-45,\n",
    "        y=20,\n",
    "        z=60\n",
    "    ),\n",
    "    carla.Rotation(\n",
    "        pitch=-90,\n",
    "        yaw=0,\n",
    "        roll=0\n",
    "    )\n",
    ")\n",
    "\n",
    "spectator = world.get_spectator() \n",
    "#below for Town04\n",
    "#transform = carla.Transform(carla.Location(x=250, y=-164, z=10),spectator.get_transform().rotation) \n",
    "spectator.set_transform(inter1tv) "
   ]
  },
  {
   "cell_type": "code",
   "execution_count": 206,
   "metadata": {},
   "outputs": [
    {
     "ename": "",
     "evalue": "",
     "output_type": "error",
     "traceback": [
      "\u001b[1;31mThe Kernel crashed while executing code in the the current cell or a previous cell. Please review the code in the cell(s) to identify a possible cause of the failure. Click <a href='https://aka.ms/vscodeJupyterKernelCrash'>here</a> for more info. View Jupyter <a href='command:jupyter.viewOutput'>log</a> for further details."
     ]
    }
   ],
   "source": [
    "for key in fresh_opened_jar_of_pickles:\n",
    "  print(key)"
   ]
  },
  {
   "cell_type": "code",
   "execution_count": 204,
   "metadata": {},
   "outputs": [
    {
     "name": "stdout",
     "output_type": "stream",
     "text": [
      "inter1tv\n",
      "inter1pv1\n",
      "inter1pv2\n",
      "inter1pv3\n",
      "inter1pv4\n",
      "inter1pv5\n",
      "inter1pv6\n",
      "inter2tv\n",
      "inter2pv1\n",
      "inter2pv2\n",
      "inter2pv3\n",
      "inter2pv4\n"
     ]
    }
   ],
   "source": [
    "for key in cam_perspectives:\n",
    "  print(key)"
   ]
  },
  {
   "cell_type": "code",
   "execution_count": null,
   "metadata": {},
   "outputs": [],
   "source": [
    "for key in cam_perspectives_pre_pickle:\n",
    "  print(key)"
   ]
  },
  {
   "cell_type": "code",
   "execution_count": 152,
   "metadata": {},
   "outputs": [
    {
     "data": {
      "text/plain": [
       "10909"
      ]
     },
     "execution_count": 152,
     "metadata": {},
     "output_type": "execute_result"
    }
   ],
   "source": [
    "jump_to = \"inter1pv6\"\n",
    "spectator.set_transform(cam_perspectives[jump_to])\n",
    "world.tick(6)"
   ]
  },
  {
   "cell_type": "markdown",
   "metadata": {},
   "source": [
    "run this to record new perspectives"
   ]
  },
  {
   "cell_type": "code",
   "execution_count": 203,
   "id": "92119a5e",
   "metadata": {},
   "outputs": [
    {
     "name": "stdout",
     "output_type": "stream",
     "text": [
      "you are working on inter1pv and are being moved to inter1tv\n",
      "careful: no pickle was loaded with previously saved intersections\n",
      "press space to record location\n",
      "exiting..\n",
      "pickled\n"
     ]
    }
   ],
   "source": [
    "import time\n",
    "import keyboard\n",
    "import pickle\n",
    "\n",
    "############# INPUT ##########################\n",
    "#change which intersection we're working on\n",
    "intersection_name = \"inter1pv\"\n",
    "topview_name = \"inter1tv\"\n",
    "pv_number = 1\n",
    "##############################################\n",
    "\n",
    "\n",
    "print(f\"you are working on {intersection_name} and are being moved to {topview_name}\")\n",
    "try:\n",
    "    spectator.set_transform(cam_perspectives[topview_name])\n",
    "except:\n",
    "    print(f\"error... set up {topview_name} first with t\")\n",
    "#save location in dictionary with incremental name (only for pv)\n",
    "dict_key = intersection_name\n",
    "dict_key += str(pv_number)\n",
    "\n",
    "#load list for camera points\n",
    "try:\n",
    "    with open('./cam_perspectives.pickle', 'rb') as handle:\n",
    "        fresh_opened_jar_of_pickles = pickle.load(handle)\n",
    "except:\n",
    "    print(\"careful: no pickle was loaded with previously saved intersections\")\n",
    "\n",
    "#return pickled lists to carla transform objects\n",
    "for key, fresh_pickle in fresh_opened_jar_of_pickles.items():\n",
    "    cam_perspectives[key] = unpickle_to_carla(fresh_pickle)\n",
    "\n",
    "##wipe intermediary lists clean\n",
    "fresh_opened_jar_of_pickles = {}\n",
    "\n",
    "#start recording new perspectives\n",
    "print('press space to record location')\n",
    "while True:\n",
    "    try:\n",
    "        if keyboard.is_pressed('esc'):  # if key 'esc' is pressed \n",
    "            print('exiting..')\n",
    "            break  # finishing the loop\n",
    "    except:\n",
    "        print('error')\n",
    "    else:\n",
    "        if keyboard.is_pressed('t'):\n",
    "            print(f\"saving...{current_location} as {topview_name}\")\n",
    "            ##needs work\n",
    "\n",
    "            \n",
    "        if keyboard.is_pressed('space'):\n",
    "            current_location = spectator.get_transform()    #get spectator location\n",
    "            #create incremental naming for dictionary key (only for pv)\n",
    "            dict_key = intersection_name\n",
    "            dict_key += str(pv_number)\n",
    "            #check if perspective exists\n",
    "            if dict_key in cam_perspectives:\n",
    "                print(f\"{dict_key} already recorded\")\n",
    "            else:\n",
    "                cam_perspectives[dict_key] = current_location\n",
    "                print(f\"saving...{current_location} as {dict_key}\")\n",
    "                assert cam_perspectives[dict_key] == current_location   #sanity check  \n",
    "            pv_number += 1  #increment for next perspective          \n",
    "            time.sleep(0.1)\n",
    "    finally:\n",
    "        world.tick()\n",
    "        time.sleep(0.03)\n",
    "        # Collect events until released\n",
    "\n",
    "\n",
    "#print(cam_perspectives)\n",
    "#pickle recorded intersection perspectives for use in other script\n",
    "#get all the carla.Transform objects in the dictionary and extract xyz pitch yaw roll\n",
    "for key, cucumber in cam_perspectives.items():\n",
    "    cam_perspectives_pre_pickle[key] = prepare_pickle_carla_transform(cucumber)\n",
    "\n",
    "#save this new dictionary (pre_pickle) as a pickle\n",
    "with open('./cam_perspectives.pickle', 'wb') as handle:\n",
    "    pickle.dump(cam_perspectives_pre_pickle, handle, protocol=pickle.HIGHEST_PROTOCOL)\n",
    "    cam_perspectives_pre_pickle = {}    ##wipe intermediary lists clean\n",
    "    print(\"pickled\")\n"
   ]
  },
  {
   "cell_type": "code",
   "execution_count": null,
   "id": "b3e4c4b0",
   "metadata": {},
   "outputs": [],
   "source": [
    "# Tick the world in the same client\n",
    "#tick = 0\n",
    "for i in range(1):\n",
    "    tick = world.tick()\n",
    "    #print(tick)"
   ]
  },
  {
   "cell_type": "markdown",
   "metadata": {},
   "source": [
    "# old code"
   ]
  },
  {
   "cell_type": "code",
   "execution_count": null,
   "metadata": {},
   "outputs": [],
   "source": [
    "import os\n",
    "import glob\n",
    "# Delete Dataset\n",
    "f = './cam_perspectives.pickle'\n",
    "#os.remove(f)"
   ]
  },
  {
   "cell_type": "markdown",
   "metadata": {},
   "source": [
    "## Hardcoded Locations (only reset if certain)"
   ]
  },
  {
   "cell_type": "code",
   "execution_count": 196,
   "metadata": {},
   "outputs": [],
   "source": [
    "#hardcoded camera perspectives\n",
    "\n",
    "#Intersection1 (checkerboard)\n",
    "inter1tv = carla.Transform(\n",
    "    carla.Location(\n",
    "        x=-45,\n",
    "        y=20,\n",
    "        z=60\n",
    "    ),\n",
    "    carla.Rotation(\n",
    "        pitch=-90,\n",
    "        yaw=0,\n",
    "        roll=0\n",
    "    )\n",
    ")\n",
    "\n",
    "inter1pv1 = carla.Transform(\n",
    "    carla.Location(\n",
    "        x=-60,\n",
    "        y=40,\n",
    "        z=7\n",
    "    ),\n",
    "    carla.Rotation(\n",
    "        pitch=-30,\n",
    "        yaw=-60,\n",
    "        roll=0\n",
    "    )\n",
    ")\n",
    "\n",
    "inter1pv2 = carla.Transform(\n",
    "    carla.Location(\n",
    "        x=-60,\n",
    "        y=20,\n",
    "        z=7.3\n",
    "    ),\n",
    "    carla.Rotation(\n",
    "        pitch=-28,\n",
    "        yaw=33.5,\n",
    "        roll=0\n",
    "    )\n",
    ")\n",
    "\n",
    "inter1pv3 = carla.Transform(\n",
    "    carla.Location(\n",
    "        x = -63.7,\n",
    "        y = 7.9,\n",
    "        z = 4.5\n",
    "    ),\n",
    "    carla.Rotation(\n",
    "        pitch = -32,\n",
    "        yaw = 41.8,\n",
    "        roll = 0\n",
    "    )\n",
    ")\n",
    "\n",
    "inter1pv4 = carla.Transform(\n",
    "    carla.Location(\n",
    "        x = -35.9,\n",
    "        y = 7.1,\n",
    "        z = 6.68\n",
    "    ),\n",
    "    carla.Rotation(\n",
    "        pitch = -35,\n",
    "        yaw = 127,\n",
    "        roll = 0\n",
    "    )\n",
    ")\n",
    "\n",
    "inter1pv5 = carla.Transform(\n",
    "    carla.Location(\n",
    "        x = -32,\n",
    "        y = 32.5,\n",
    "        z = 3.5\n",
    "    ),\n",
    "    carla.Rotation(\n",
    "        pitch = -23,\n",
    "        yaw = -103,\n",
    "        roll = 0\n",
    "    )\n",
    ")\n",
    "\n",
    "inter1pv6 = carla.Transform(\n",
    "    carla.Location(\n",
    "        x = -64.2,\n",
    "        y = 7.7,\n",
    "        z = 5\n",
    "    ),\n",
    "    carla.Rotation(\n",
    "        pitch = -27,\n",
    "        yaw = 40,\n",
    "        roll = 0\n",
    "    )\n",
    ")\n",
    "\n",
    "#Intersection2 (museum)\n",
    "inter2tv = carla.Transform(\n",
    "    carla.Location(\n",
    "        x=90,\n",
    "        y=20,\n",
    "        z=60\n",
    "    ),\n",
    "    carla.Rotation(\n",
    "        pitch=-90,\n",
    "        yaw=0,\n",
    "        roll=0\n",
    "    )\n",
    ")\n",
    "inter2pv1 = carla.Transform(\n",
    "    carla.Location(\n",
    "        x=115,\n",
    "        y=40,\n",
    "        z=8.5\n",
    "    ),\n",
    "    carla.Rotation(\n",
    "        pitch=-14,\n",
    "        yaw=-124,\n",
    "        roll=0\n",
    "    )\n",
    ")\n",
    "inter2pv2 = carla.Transform(\n",
    "    carla.Location(\n",
    "        x = 96,\n",
    "        y = 46,\n",
    "        z = 7.9\n",
    "    ),\n",
    "    carla.Rotation(\n",
    "        pitch = -29,\n",
    "        yaw = -72,\n",
    "        roll = 0\n",
    "    )\n",
    ")\n",
    "inter2pv3 = carla.Transform(\n",
    "    carla.Location(\n",
    "        x = 92.29,\n",
    "        y = 3.84,\n",
    "        z = 5.2\n",
    "    ),\n",
    "    carla.Rotation(\n",
    "        pitch = -8.8,\n",
    "        yaw = 73.2,\n",
    "        roll = 0\n",
    "    )\n",
    ")\n",
    "inter2pv4 = carla.Transform(\n",
    "    carla.Location(\n",
    "        x = 114.54,\n",
    "        y = -8.95,\n",
    "        z = 6.9\n",
    "    ),\n",
    "    carla.Rotation(\n",
    "        pitch = -25.81,\n",
    "        yaw = 124.43,\n",
    "        roll = 0\n",
    "    )\n",
    ")\n",
    "\n",
    "\n",
    "wip = carla.Transform(\n",
    "    carla.Location(\n",
    "        x = -64.2,\n",
    "        y = 7.7,\n",
    "        z = 5\n",
    "    ),\n",
    "    carla.Rotation(\n",
    "        pitch = -27,\n",
    "        yaw = 40,\n",
    "        roll = 0\n",
    "    )\n",
    ")\n",
    "\n",
    "cam_perspectives =\t{\n",
    "  \"inter1tv\": inter1tv,\n",
    "  \"inter1pv1\": inter1pv1,\n",
    "  \"inter1pv2\": inter1pv2,\n",
    "  \"inter1pv3\": inter1pv3,\n",
    "  \"inter1pv4\": inter1pv4,\n",
    "  \"inter1pv5\": inter1pv5,\n",
    "  \"inter1pv6\": inter1pv6,\n",
    "\n",
    "  \"inter2tv\": inter2tv,\n",
    "  \"inter2pv1\": inter2pv1,\n",
    "  \"inter2pv2\": inter2pv2,\n",
    "  \"inter2pv3\": inter2pv3,\n",
    "  \"inter2pv4\": inter2pv4\n",
    "}"
   ]
  },
  {
   "cell_type": "markdown",
   "id": "af7fbd08",
   "metadata": {},
   "source": [
    "# trying synchronous mode"
   ]
  },
  {
   "cell_type": "markdown",
   "metadata": {},
   "source": []
  },
  {
   "cell_type": "code",
   "execution_count": null,
   "id": "f9b4502a",
   "metadata": {},
   "outputs": [],
   "source": [
    "###### back to async\n",
    "world.apply_settings(init_settings)\n",
    "###### just for using simulation and spectator"
   ]
  },
  {
   "cell_type": "code",
   "execution_count": null,
   "id": "589a65aa",
   "metadata": {},
   "outputs": [],
   "source": [
    "print(world.get_settings())"
   ]
  },
  {
   "cell_type": "markdown",
   "id": "e3b63210",
   "metadata": {},
   "source": [
    "# cameras"
   ]
  },
  {
   "cell_type": "code",
   "execution_count": null,
   "id": "34375b9e",
   "metadata": {},
   "outputs": [],
   "source": [
    "# Spawn an RGB cammera at the set location\n",
    "camera_bp = bp_lib.find('sensor.camera.rgb') \n",
    "#fix broken images by setting camera resolution manually must be 2\n",
    "disp_size = [1980,1080]\n",
    "camera_bp.set_attribute('image_size_x', str(disp_size[0]))\n",
    "camera_bp.set_attribute('image_size_y', str(disp_size[1]))\n",
    "# Set the time in seconds between sensor captures\n",
    "camera_bp.set_attribute('sensor_tick', str(ticktime))\n",
    "#spawn camera at saved spectator location\n",
    "camera_init_trans = spec_location\n",
    "camera = world.spawn_actor(camera_bp, camera_init_trans)"
   ]
  },
  {
   "cell_type": "code",
   "execution_count": null,
   "id": "cc502b74",
   "metadata": {},
   "outputs": [],
   "source": [
    "#spawn a ground truth segemnetation camera at the same location\n",
    "camera_bp = bp_lib.find('sensor.camera.semantic_segmentation')\n",
    "camera_bp.set_attribute('image_size_x', str(disp_size[0]))\n",
    "camera_bp.set_attribute('image_size_y', str(disp_size[1]))\n",
    "# Set the time in seconds between sensor captures\n",
    "camera_bp.set_attribute('sensor_tick', str(ticktime))\n",
    "#spawn camera at saved spectator location\n",
    "camera_init_trans = spec_location\n",
    "camera_seg = world.spawn_actor(camera_bp, camera_init_trans)"
   ]
  },
  {
   "cell_type": "code",
   "execution_count": null,
   "id": "14d1ce5d",
   "metadata": {},
   "outputs": [],
   "source": [
    "# Start the cameras saving data to disk\n",
    "camera.listen(lambda image: image.save_to_disk('out/rgb/%06d.png' % image.frame))\n",
    "#camera_seg.listen(lambda image: image.save_to_disk('out/seg/%06d.png' % image.frame))\n",
    "cc = carla.ColorConverter.CityScapesPalette\n",
    "camera_seg.listen(lambda image: image.save_to_disk('out/conv/%06d.png' % image.frame, cc))"
   ]
  },
  {
   "cell_type": "code",
   "execution_count": null,
   "id": "8e030588",
   "metadata": {},
   "outputs": [],
   "source": [
    "for i in range(100): \n",
    "    world.tick()\n",
    "    #time.sleep(ticktime*5) #delay next tick by factor"
   ]
  },
  {
   "cell_type": "code",
   "execution_count": null,
   "id": "7fb1d479",
   "metadata": {},
   "outputs": [],
   "source": [
    "# Stop the camera when we've recorded enough data\n",
    "camera.stop()\n",
    "camera_seg.stop()\n",
    "camera.destroy()\n",
    "camera_seg.destroy()"
   ]
  },
  {
   "cell_type": "code",
   "execution_count": null,
   "id": "e1c39a0c",
   "metadata": {},
   "outputs": [],
   "source": []
  },
  {
   "cell_type": "markdown",
   "id": "da5bf87b",
   "metadata": {},
   "source": [
    "Synchronous mode: https://carla.readthedocs.io/en/latest/adv_synchrony_timestep/"
   ]
  },
  {
   "cell_type": "markdown",
   "id": "e9ed479d",
   "metadata": {},
   "source": [
    "# delete all vehicles"
   ]
  },
  {
   "cell_type": "code",
   "execution_count": null,
   "id": "16793e84",
   "metadata": {},
   "outputs": [],
   "source": [
    "# destroy all vehicles\n",
    "for v in world.get_actors().filter('*vehicle*'): \n",
    "    v.destroy()\n",
    "world.tick()"
   ]
  },
  {
   "cell_type": "code",
   "execution_count": null,
   "id": "fe3b0ef1",
   "metadata": {},
   "outputs": [],
   "source": [
    "print(world.get_actors().filter('*vehicle*'))"
   ]
  },
  {
   "cell_type": "code",
   "execution_count": null,
   "id": "c5fac747",
   "metadata": {},
   "outputs": [],
   "source": [
    "print(world.get_actors().filter('*hero*'))"
   ]
  },
  {
   "cell_type": "code",
   "execution_count": null,
   "id": "a0ae15e6",
   "metadata": {},
   "outputs": [],
   "source": [
    "print(world.get_actors())"
   ]
  },
  {
   "cell_type": "code",
   "execution_count": null,
   "id": "1315caf8",
   "metadata": {},
   "outputs": [],
   "source": [
    "for v in world.get_actors().filter('*vehicle*'): \n",
    "    print(v.id)\n",
    "    print(v.get_transform())\n",
    "    "
   ]
  },
  {
   "cell_type": "code",
   "execution_count": null,
   "id": "1e852b25",
   "metadata": {},
   "outputs": [],
   "source": []
  }
 ],
 "metadata": {
  "kernelspec": {
   "display_name": "Python 3 (ipykernel)",
   "language": "python",
   "name": "python3"
  },
  "language_info": {
   "codemirror_mode": {
    "name": "ipython",
    "version": 3
   },
   "file_extension": ".py",
   "mimetype": "text/x-python",
   "name": "python",
   "nbconvert_exporter": "python",
   "pygments_lexer": "ipython3",
   "version": "3.7.9"
  }
 },
 "nbformat": 4,
 "nbformat_minor": 5
}

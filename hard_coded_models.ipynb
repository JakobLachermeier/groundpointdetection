{
 "cells": [
  {
   "cell_type": "code",
   "execution_count": 47,
   "metadata": {},
   "outputs": [],
   "source": [
    "import numpy as np\n",
    "from sklearn.utils.validation import check_is_fitted\n",
    "from sklearn.base import BaseEstimator\n",
    "from tqdm import trange\n",
    "import numpy.typing as npt\n",
    "import pprint\n",
    "\n",
    "from bev import PositionEstimation\n",
    "from ipm_evaluation.fivesafe.image_tracking.track import Track\n",
    "from utils import get_data, datapath"
   ]
  },
  {
   "cell_type": "code",
   "execution_count": 48,
   "metadata": {},
   "outputs": [],
   "source": [
    "pp = pprint.PrettyPrinter()"
   ]
  },
  {
   "cell_type": "code",
   "execution_count": 2,
   "metadata": {},
   "outputs": [],
   "source": [
    "class HardCodedEstimator(BaseEstimator):\n",
    "    def __init__(self, homography_path: str, scaling_factor: int = 1) -> None:\n",
    "        super().__init__()\n",
    "        self.homography_path = homography_path\n",
    "        self.scaling_factor = scaling_factor\n",
    "\n",
    "    def fit(self, X, y):\n",
    "        self.position_estimator_ = PositionEstimation(self.homography_path, self.scaling_factor)\n",
    "        self.is_fitted_ = True\n",
    "        label = 2 # car\n",
    "        self.track_ = Track(None, label, 1, 1, 1)\n",
    "        return self\n",
    "    \n",
    "    def predict(self, X:list[list[tuple[float, float]]]):\n",
    "        \"\"\"X is a list of hulls\n",
    "\n",
    "        Args:\n",
    "            X (list): _description_\n",
    "        \"\"\"\n",
    "        check_is_fitted(self, \"is_fitted_\")\n",
    "        predictions = np.empty((len(X), 2))\n",
    "        for i, hull in enumerate(X):\n",
    "            point, _, _ = self.position_estimator_.map_entity_and_return_relevant_points(self.track_, hull)\n",
    "            point = self.position_estimator_.invert_homography(point)\n",
    "            predictions[i] = point\n",
    "        return predictions"
   ]
  },
  {
   "cell_type": "code",
   "execution_count": 37,
   "metadata": {},
   "outputs": [
    {
     "name": "stderr",
     "output_type": "stream",
     "text": [
      "100%|██████████| 100/100 [00:03<00:00, 27.00it/s]\n"
     ]
    }
   ],
   "source": [
    "all_data = [get_data(i, datapath) for i in trange(1, 101)]\n",
    "X = [vehicle[\"hull\"] for image_pv, image_tv, vehicles_pv,\n",
    "     vehicles_tv in all_data for vehicle in vehicles_pv]\n",
    "y = [vehicle[\"gcp\"] for image_pv, image_tv, vehicles_pv,\n",
    "     vehicles_tv in all_data for vehicle in vehicles_pv]\n",
    "\n",
    "X = np.array(X, dtype=object)\n",
    "y = np.array(y)"
   ]
  },
  {
   "cell_type": "code",
   "execution_count": 60,
   "metadata": {},
   "outputs": [],
   "source": [
    "class ShiftedCenter(BaseEstimator):\n",
    "    \"\"\"Takes the center of the given hull and shifts it by the fitted vector.\n",
    "\n",
    "    Args:\n",
    "        BaseEstimator (_type_): _description_\n",
    "    \"\"\"\n",
    "    def __init__(self) -> None:\n",
    "        super().__init__()\n",
    "\n",
    "    def fit(self, X: np.ndarray, y: np.ndarray):\n",
    "        \"\"\"\n",
    "        For each hull: Assume center_point + delta = gcp => delta = gcp - center_point\n",
    "        1. Calculate center point\n",
    "        2. Calculate delta\n",
    "        3. Take the mean of all deltas and store it for later use\n",
    "        Args:\n",
    "            X (np.ndarray): _description_\n",
    "            y (np.ndarray): _description_\n",
    "        \"\"\"\n",
    "        y = y.copy()\n",
    "        y[:, [0, 1]] = y[:, [1, 0]] #swap y coordinates to match hull coords\n",
    "        deltas = np.empty((len(X), 2))\n",
    "        for i, hull in enumerate(X):\n",
    "            center = hull.mean(axis=0)\n",
    "            gcp = y[i]\n",
    "            delta = gcp - center\n",
    "            deltas[i] = delta\n",
    "        \n",
    "        self.delta = deltas.mean(axis=0)\n",
    "        self.is_fitted_ = True\n",
    "        return self\n",
    "    \n",
    "    def predict(self, X: npt.NDArray) -> np.ndarray:\n",
    "        check_is_fitted(self, \"is_fitted_\")\n",
    "        predictions = np.empty((len(X), 2))\n",
    "        for i, hull in enumerate(X):\n",
    "            center = hull.mean(axis=0)\n",
    "            gcp = self.delta + center\n",
    "            predictions[i] = gcp\n",
    "\n",
    "        predictions[:, [0, 1]] = predictions[:, [1, 0]] # swap back to expected coordinates\n",
    "        return predictions\n"
   ]
  },
  {
   "cell_type": "code",
   "execution_count": 71,
   "metadata": {},
   "outputs": [
    {
     "name": "stderr",
     "output_type": "stream",
     "text": [
      "100%|██████████| 2/2 [00:00<00:00, 74.14it/s]"
     ]
    },
    {
     "name": "stdout",
     "output_type": "stream",
     "text": [
      "[8.96337806 0.31214478]\n",
      "[{'classifier': ShiftedCenter(),\n",
      "  'pipeline': None,\n",
      "  'test_mse': 33.19168393965666,\n",
      "  'train_mse': 252.80777725927922},\n",
      " {'classifier': HardCodedEstimator(homography_path='./ipm_evaluation/conf/homography_matrix.json',\n",
      "                   scaling_factor=4),\n",
      "  'pipeline': None,\n",
      "  'test_mse': 119.99642392626635,\n",
      "  'train_mse': 210.21149336905233}]\n"
     ]
    },
    {
     "name": "stderr",
     "output_type": "stream",
     "text": [
      "\n"
     ]
    }
   ],
   "source": [
    "from utils import fit_and_score\n",
    "\n",
    "shifter = ShiftedCenter() \n",
    "\n",
    "classifiers = [\n",
    "    (HardCodedEstimator(\"./ipm_evaluation/conf/homography_matrix.json\", 4), None),\n",
    "    (shifter, None)\n",
    "]\n",
    "eval = fit_and_score(classifiers, X, y, 42)\n",
    "print(shifter.delta)\n",
    "pp.pprint(eval)\n"
   ]
  },
  {
   "cell_type": "code",
   "execution_count": 79,
   "metadata": {},
   "outputs": [
    {
     "data": {
      "text/plain": [
       "<Axes: title={'center': 'Hull and ground contact point(gcp)'}>"
      ]
     },
     "execution_count": 79,
     "metadata": {},
     "output_type": "execute_result"
    },
    {
     "data": {
      "image/png": "[encoded data removed]",
      "text/plain": [
       "<Figure size 640x480 with 1 Axes>"
      ]
     },
     "metadata": {},
     "output_type": "display_data"
    }
   ],
   "source": [
    "from utils import predict_and_plot\n",
    "n = 9\n",
    "hull = X[n]\n",
    "gcp = y[n]\n",
    "predicted_gcps = shifter.predict(X)\n",
    "predict_and_plot(hull, gcp, None, predicted_gcps[n],)"
   ]
  },
  {
   "cell_type": "code",
   "execution_count": null,
   "metadata": {},
   "outputs": [],
   "source": []
  }
 ],
 "metadata": {
  "kernelspec": {
   "display_name": "pytorch",
   "language": "python",
   "name": "python3"
  },
  "language_info": {
   "codemirror_mode": {
    "name": "ipython",
    "version": 3
   },
   "file_extension": ".py",
   "mimetype": "text/x-python",
   "name": "python",
   "nbconvert_exporter": "python",
   "pygments_lexer": "ipython3",
   "version": "3.10.12"
  }
 },
 "nbformat": 4,
 "nbformat_minor": 2
}

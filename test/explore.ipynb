{
 "cells": [
  {
   "cell_type": "code",
   "execution_count": 2,
   "metadata": {},
   "outputs": [
    {
     "data": {
      "text/plain": [
       "[{'classifier': MultiOutputRegressor(estimator=GradientBoostingRegressor(n_estimators=60,\n",
       "                                                           random_state=42)),\n",
       "  'pipeline': Pipeline(steps=[('padhull', PadHull(n_points=100, shuffle=False)),\n",
       "                  ('scaletoimage', ScaleToImage(height=1080, width=1920)),\n",
       "                  ('flattencoordinates', FlattenCoordinates(n_coordinates=100))]),\n",
       "  'train_mse': 502.77927478980314,\n",
       "  'test_mse': 1139.3266708260232},\n",
       " {'classifier': Ridge(random_state=42),\n",
       "  'pipeline': Pipeline(steps=[('padhull', PadHull(n_points=100, shuffle=False)),\n",
       "                  ('scaletoimage', ScaleToImage(height=1080, width=1920)),\n",
       "                  ('flattencoordinates', FlattenCoordinates(n_coordinates=100)),\n",
       "                  ('standardscaler', StandardScaler())]),\n",
       "  'train_mse': 788.2547349938648,\n",
       "  'test_mse': 1298.5043240266218},\n",
       " {'classifier': HardCodedEstimator(homography_path='homography_matrix.json', scaling_factor=4),\n",
       "  'pipeline': None,\n",
       "  'train_mse': 3591.46899197857,\n",
       "  'test_mse': 3897.88301357565}]"
      ]
     },
     "execution_count": 2,
     "metadata": {},
     "output_type": "execute_result"
    }
   ],
   "source": [
    "import joblib\n",
    "import sys\n",
    "sys.path.append('../')\n",
    "with open(\"../regressors.joblib\", \"rb\") as f:\n",
    "    regressors = joblib.load(f)\n",
    "\n",
    "regressors"
   ]
  },
  {
   "cell_type": "code",
   "execution_count": 7,
   "metadata": {},
   "outputs": [],
   "source": [
    "import json\n",
    "import numpy as np\n",
    "\n",
    "with open(\"../../datasets/hannover/homography.json\", \"r\") as f:\n",
    "    homography = np.array(json.load(f))"
   ]
  },
  {
   "cell_type": "code",
   "execution_count": 8,
   "metadata": {},
   "outputs": [
    {
     "data": {
      "text/plain": [
       "array([[-7.38671478e+00,  1.08327131e+02, -9.11392127e+03],\n",
       "       [-1.22105287e+01,  2.64725013e+01,  1.98719935e+04],\n",
       "       [-6.43019224e-04,  3.80629726e-02,  1.00000000e+00]])"
      ]
     },
     "execution_count": 8,
     "metadata": {},
     "output_type": "execute_result"
    }
   ],
   "source": [
    "homography"
   ]
  },
  {
   "cell_type": "code",
   "execution_count": null,
   "metadata": {},
   "outputs": [],
   "source": []
  }
 ],
 "metadata": {
  "kernelspec": {
   "display_name": "pytorch",
   "language": "python",
   "name": "python3"
  },
  "language_info": {
   "codemirror_mode": {
    "name": "ipython",
    "version": 3
   },
   "file_extension": ".py",
   "mimetype": "text/x-python",
   "name": "python",
   "nbconvert_exporter": "python",
   "pygments_lexer": "ipython3",
   "version": "3.10.12"
  }
 },
 "nbformat": 4,
 "nbformat_minor": 2
}

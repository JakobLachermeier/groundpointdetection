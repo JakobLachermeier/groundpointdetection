{
 "cells": [
  {
   "cell_type": "code",
   "execution_count": 1,
   "metadata": {},
   "outputs": [],
   "source": [
    "from pathlib import Path\n",
    "from collections import Counter\n",
    "import joblib\n",
    "import pprint\n",
    "\n",
    "import cv2\n",
    "import numpy as np\n",
    "from torch.utils.data import ConcatDataset, DataLoader\n",
    "import matplotlib.pyplot as plt\n",
    "\n",
    "from dataloader import CarlaDataset, load_all_datasets_in_folder, load_datasets\n",
    "from dataloader import Instance # type: ignore\n",
    "\n",
    "\n",
    "# reload local imports\n",
    "%load_ext autoreload\n",
    "%autoreload 2"
   ]
  },
  {
   "cell_type": "markdown",
   "metadata": {},
   "source": [
    "## 1. Data loading"
   ]
  },
  {
   "cell_type": "code",
   "execution_count": 10,
   "metadata": {},
   "outputs": [],
   "source": [
    "all_datasets = [\"train1\", \"train2\", \"train3\", \"train4\"] # exclue train1 because train1 == validation\n",
    "validation_set_name = \"validation\"\n",
    "all_datasets.append(validation_set_name)\n",
    "all_datasets = load_datasets(\"../datasets\", all_datasets)\n",
    "train_sets = [dataset for dataset in all_datasets if dataset.name != \"validation_set_name\"]\n",
    "validation_set = [dataset for dataset in all_datasets if dataset.name == validation_set_name][0]"
   ]
  },
  {
   "cell_type": "code",
   "execution_count": 11,
   "metadata": {},
   "outputs": [],
   "source": [
    "pp=pprint.PrettyPrinter(indent=4) "
   ]
  },
  {
   "cell_type": "code",
   "execution_count": 12,
   "metadata": {},
   "outputs": [
    {
     "data": {
      "text/plain": [
       "array([[ 2.60341980e-01, -4.36185843e+00,  1.43997638e+03],\n",
       "       [ 3.87851117e-01, -4.02592310e-01, -5.10458816e+02],\n",
       "       [-1.45584877e-06, -3.33590572e-03,  1.00000000e+00]])"
      ]
     },
     "execution_count": 12,
     "metadata": {},
     "output_type": "execute_result"
    }
   ],
   "source": [
    "all_datasets[0].homography"
   ]
  },
  {
   "cell_type": "code",
   "execution_count": 13,
   "metadata": {},
   "outputs": [],
   "source": [
    "train_set: ConcatDataset[CarlaDataset] = ConcatDataset(train_sets)"
   ]
  },
  {
   "cell_type": "code",
   "execution_count": 14,
   "metadata": {},
   "outputs": [
    {
     "name": "stdout",
     "output_type": "stream",
     "text": [
      "9538\n"
     ]
    }
   ],
   "source": [
    "hulls = [instance[0] for instance in iter(train_set)]\n",
    "gcps = np.array([instance[1] for instance in iter(train_set)])\n",
    "assert len(hulls) == len(gcps)\n",
    "print(len(hulls))"
   ]
  },
  {
   "cell_type": "code",
   "execution_count": 15,
   "metadata": {},
   "outputs": [
    {
     "name": "stdout",
     "output_type": "stream",
     "text": [
      "76\n"
     ]
    },
    {
     "data": {
      "text/plain": [
       "Text(0.5, 1.0, 'Number of Convex Hull points')"
      ]
     },
     "execution_count": 15,
     "metadata": {},
     "output_type": "execute_result"
    },
    {
     "data": {
      "image/png": "[encoded data removed]",
      "text/plain": [
       "<Figure size 640x480 with 1 Axes>"
      ]
     },
     "metadata": {},
     "output_type": "display_data"
    }
   ],
   "source": [
    "number_of_hulls = list(map(lambda x: len(x), hulls))\n",
    "length_counter = Counter(number_of_hulls)\n",
    "print(max(length_counter))\n",
    "fig, axis = plt.subplots()\n",
    "axis.bar(length_counter.keys(), length_counter.values()) # type: ignore\n",
    "axis.spines['top'].set_visible(False)\n",
    "axis.spines['right'].set_visible(False)\n",
    "axis.set_title(\"Number of Convex Hull points\")"
   ]
  },
  {
   "cell_type": "code",
   "execution_count": 16,
   "metadata": {},
   "outputs": [
    {
     "name": "stderr",
     "output_type": "stream",
     "text": [
      "100%|██████████| 3/3 [00:25<00:00,  8.59s/it]"
     ]
    },
    {
     "name": "stdout",
     "output_type": "stream",
     "text": [
      "[   {   'classifier': MultiOutputRegressor(estimator=GradientBoostingRegressor(n_estimators=60,\n",
      "                                                         random_state=42)),\n",
      "        'pipeline': Pipeline(steps=[('padhull', PadHull(n_points=100, shuffle=False)),\n",
      "                ('scaletoimage', ScaleToImage(height=1080, width=1920)),\n",
      "                ('flattencoordinates', FlattenCoordinates(n_coordinates=100))]),\n",
      "        'test_mse': 784.725497324912,\n",
      "        'train_mse': 535.5672650232347},\n",
      "    {   'classifier': Ridge(random_state=42),\n",
      "        'pipeline': Pipeline(steps=[('padhull', PadHull(n_points=100, shuffle=False)),\n",
      "                ('scaletoimage', ScaleToImage(height=1080, width=1920)),\n",
      "                ('flattencoordinates', FlattenCoordinates(n_coordinates=100)),\n",
      "                ('standardscaler', StandardScaler())]),\n",
      "        'test_mse': 1149.473832753991,\n",
      "        'train_mse': 818.9773364194585},\n",
      "    {   'classifier': HardCodedEstimator(homography_path='homography_matrix.json', scaling_factor=4),\n",
      "        'pipeline': None,\n",
      "        'test_mse': 3647.03453288524,\n",
      "        'train_mse': 4137.605819727155}]\n"
     ]
    },
    {
     "name": "stderr",
     "output_type": "stream",
     "text": [
      "\n"
     ]
    }
   ],
   "source": [
    "from sklearn.linear_model import Ridge\n",
    "from sklearn.tree import DecisionTreeRegressor\n",
    "from sklearn.ensemble import GradientBoostingRegressor\n",
    "from sklearn.multioutput import MultiOutputRegressor, RegressorChain\n",
    "from sklearn.preprocessing import StandardScaler\n",
    "from sklearn.svm import SVR, LinearSVR\n",
    "from sklearn.pipeline import make_pipeline  \n",
    "from utils import fit_and_score, HardCodedEstimator, PadHull, ScaleToImage, FlattenCoordinates\n",
    "\n",
    "n_points_per_hull = 100\n",
    "image_width = 1920\n",
    "image_height = 1080\n",
    "random_state = 42\n",
    "\n",
    "scaled_pipeline = make_pipeline(PadHull(False, n_points_per_hull),\n",
    "                               ScaleToImage(image_width, image_height),\n",
    "                               FlattenCoordinates(n_points_per_hull),\n",
    "                               StandardScaler()) # ridge needs standard scaler\n",
    "\n",
    "non_scaled_pipeline = make_pipeline(PadHull(False, n_points_per_hull),\n",
    "                            ScaleToImage(image_width, image_height),\n",
    "                            FlattenCoordinates(n_points_per_hull),\n",
    "                            )\n",
    "\n",
    "\n",
    "# commented out models don't work\n",
    "regressors = [\n",
    "    (Ridge(random_state=random_state, ), scaled_pipeline),\n",
    "    #(RegressorChain(SVR()), scaled_pipeline),\n",
    "    #(MultiOutputRegressor(SVR()), scaled_pipeline),\n",
    "    #(RegressorChain(GradientBoostingRegressor(n_estimators=60, random_state=random_state)), non_scaled_pipeline),\n",
    "    (MultiOutputRegressor(GradientBoostingRegressor(n_estimators=60, random_state=random_state)), non_scaled_pipeline),\n",
    "    #(RegressorChain(LinearSVR()), scaled_pipeline),\n",
    "    # MultiOutputRegressor(LinearSVR()),0\n",
    "    #(DecisionTreeRegressor(max_depth=18, random_state=random_state), non_scaled_pipeline),\n",
    "    (HardCodedEstimator(\"homography_matrix.json\", 4), None),\n",
    "]\n",
    "evaluation = fit_and_score(regressors, hulls, gcps, random_state=random_state)\n",
    "pp.pprint(evaluation)\n",
    "_=joblib.dump(evaluation, \"regressors.joblib\")"
   ]
  },
  {
   "cell_type": "markdown",
   "metadata": {},
   "source": [
    "## Validation on new validation camera angle"
   ]
  },
  {
   "cell_type": "code",
   "execution_count": 40,
   "metadata": {},
   "outputs": [
    {
     "name": "stdout",
     "output_type": "stream",
     "text": [
      "615\n"
     ]
    }
   ],
   "source": [
    "val_hulls = [instance[0] for instance in iter(validation_set)]\n",
    "val_gcps = np.array([instance[1] for instance in iter(validation_set)])\n",
    "val_gcps_tv = np.array([validation_set.get_instance(i).gcp_tv for i in range(len(validation_set))])\n",
    "assert len(val_hulls) == len(val_gcps)\n",
    "print(len(val_hulls))"
   ]
  },
  {
   "cell_type": "code",
   "execution_count": 41,
   "metadata": {},
   "outputs": [
    {
     "name": "stdout",
     "output_type": "stream",
     "text": [
      "Ridge(random_state=42) mse: 17.794446214894638\n",
      "MultiOutputRegressor(estimator=GradientBoostingRegressor(n_estimators=60,\n",
      "                                                         random_state=42)) mse: 15.677322644904523\n",
      "HardCodedEstimator(homography_path='./ipm_evaluation/conf/homography_matrix.json',\n",
      "                   scaling_factor=4) mse: 35.70769628738256\n"
     ]
    }
   ],
   "source": [
    "from sklearn.metrics import mean_squared_error, mean_absolute_error\n",
    "\n",
    "# mean absollute error is better because the dataset has faulty outliers (bicyclist)\n",
    "metric = mean_absolute_error\n",
    "\n",
    "loss_values = {}\n",
    "\n",
    "for (regressor, pipeline) in regressors:\n",
    "    if pipeline is None:\n",
    "        predictions = regressor.predict(val_hulls)\n",
    "        error = metric(val_gcps, predictions)\n",
    "        #print(f\"{regressor} mse: {error}\")\n",
    "    else:\n",
    "        processed_hulls = pipeline.transform(val_hulls)\n",
    "        predictions = regressor.predict(processed_hulls)\n",
    "        error = metric(val_gcps, predictions)\n",
    "        print(f\"{regressor} mse: {error}\")\n",
    "        if isinstance(regressor, Ridge):\n",
    "            loss_values[\"Ridge Regressor\"] = error\n",
    "        elif isinstance(regressor, MultiOutputRegressor):\n",
    "            loss_values[\"Gradient Boosting Regressor\"] = error\n",
    "\n",
    "hard_coded_estimator = HardCodedEstimator(\"./ipm_evaluation/conf/homography_matrix.json\", 4)\n",
    "hard_coded_estimator.fit(val_hulls, val_gcps)\n",
    "hard_coded_estimator.set_homography(validation_set.homography)\n",
    "predictions = hard_coded_estimator.predict(val_hulls)\n",
    "error = metric(val_gcps, predictions)\n",
    "loss_values[\"Baseline\"] = error\n",
    "print(f\"{hard_coded_estimator} mse: {error}\")"
   ]
  },
  {
   "cell_type": "code",
   "execution_count": 42,
   "metadata": {},
   "outputs": [
    {
     "data": {
      "text/plain": [
       "Text(0.5, 1.0, 'Mean Absolute Error in the perspective view\\n(Lower is better)')"
      ]
     },
     "execution_count": 42,
     "metadata": {},
     "output_type": "execute_result"
    },
    {
     "data": {
      "image/png": "[encoded data removed]",
      "text/plain": [
       "<Figure size 640x480 with 1 Axes>"
      ]
     },
     "metadata": {},
     "output_type": "display_data"
    }
   ],
   "source": [
    "fig, axis = plt.subplots()\n",
    "# sort loss values by value\n",
    "loss_values = dict(sorted(loss_values.items(), key=lambda item: item[1]))\n",
    "axis.bar(loss_values.keys(), loss_values.values(), width=0.6) # type: ignore\n",
    "axis.spines['top'].set_visible(False)\n",
    "axis.spines['right'].set_visible(False)\n",
    "axis.set_title(\"Mean Absolute Error in the perspective view\\n(Lower is better)\")\n",
    "# make the space between bars slightly larger\n"
   ]
  },
  {
   "cell_type": "code",
   "execution_count": 43,
   "metadata": {},
   "outputs": [
    {
     "name": "stdout",
     "output_type": "stream",
     "text": [
      "Ridge(random_state=42) mse: 15.53344590976564\n",
      "MultiOutputRegressor(estimator=GradientBoostingRegressor(n_estimators=60,\n",
      "                                                         random_state=42)) mse: 12.068205574953094\n",
      "HardCodedEstimator(homography_path='./ipm_evaluation/conf/homography_matrix.json',\n",
      "                   scaling_factor=4) mse: 42.083268089485394\n"
     ]
    }
   ],
   "source": [
    "loss_values_tv = {}\n",
    "\n",
    "for (regressor, pipeline) in regressors:\n",
    "    if pipeline is None:\n",
    "        # hard coded with wrong homography matrix\n",
    "        pass\n",
    "    else:\n",
    "        processed_hulls = pipeline.transform(val_hulls)\n",
    "        predictions = regressor.predict(processed_hulls)\n",
    "        projected_predictions = validation_set.project_points_from_pv(predictions)\n",
    "        error = metric(val_gcps_tv, projected_predictions)\n",
    "        if isinstance(regressor, Ridge):\n",
    "            loss_values_tv[\"Ridge Regressor\"] = error\n",
    "        elif isinstance(regressor, MultiOutputRegressor):\n",
    "            loss_values_tv[\"Gradient Boosting Regressor\"] = error\n",
    "        print(f\"{regressor} mse: {error}\")\n",
    "\n",
    "hard_coded_estimator = HardCodedEstimator(\"./ipm_evaluation/conf/homography_matrix.json\", 4)\n",
    "hard_coded_estimator.fit(val_hulls, val_gcps)\n",
    "hard_coded_estimator.set_homography(validation_set.homography)\n",
    "predictions = hard_coded_estimator.predict(val_hulls)\n",
    "\n",
    "projected_predictions = validation_set.project_points_from_pv(predictions)\n",
    "error = metric(val_gcps_tv, projected_predictions)\n",
    "loss_values_tv[\"Baseline\"] = error\n",
    "print(f\"{hard_coded_estimator} mse: {error}\")"
   ]
  },
  {
   "cell_type": "markdown",
   "metadata": {},
   "source": [
    "## Plot Perspective and Top view loss values in the same plot"
   ]
  },
  {
   "cell_type": "code",
   "execution_count": 44,
   "metadata": {},
   "outputs": [
    {
     "data": {
      "image/png": "[encoded data removed]",
      "text/plain": [
       "<Figure size 640x480 with 1 Axes>"
      ]
     },
     "metadata": {},
     "output_type": "display_data"
    }
   ],
   "source": [
    "# Set the width for each pair of bars\n",
    "bar_width = 0.35  # Adjust this value based on your preference\n",
    "\n",
    "# Calculate the x positions for each group of bars\n",
    "x_positions1 = range(len(loss_values))\n",
    "x_positions2 = [x + bar_width for x in x_positions1]\n",
    "\n",
    "# Create a bar chart\n",
    "plt.bar(x_positions1, loss_values.values(), width=bar_width, label='Loss Perspective view', color='blue')\n",
    "plt.bar(x_positions2, loss_values_tv.values(), width=bar_width, label='Loss Top View', color='orange')\n",
    "\n",
    "# Set x-ticks and labels\n",
    "plt.xticks([pos + bar_width / 2 for pos in x_positions1], loss_values.keys())\n",
    "\n",
    "# Add labels and title\n",
    "plt.xlabel('Models')\n",
    "plt.ylabel('Loss Values')\n",
    "plt.title('Mean absolute error on the validation set\\n(Lower is better)')\n",
    "# remove top and right spines\n",
    "plt.gca().spines['top'].set_visible(False)\n",
    "plt.gca().spines['right'].set_visible(False)\n",
    "\n",
    "# Add legend\n",
    "plt.legend()\n",
    "\n",
    "# Show the plot\n",
    "plt.show()"
   ]
  },
  {
   "cell_type": "code",
   "execution_count": 45,
   "metadata": {},
   "outputs": [],
   "source": [
    "train_hulls = [instance[0] for instance in iter(train_set)]\n",
    "train_psis = np.array([instance[2] for instance in iter(train_set)])"
   ]
  },
  {
   "cell_type": "code",
   "execution_count": 46,
   "metadata": {},
   "outputs": [
    {
     "name": "stderr",
     "output_type": "stream",
     "text": [
      "  0%|          | 0/2 [00:00<?, ?it/s]"
     ]
    },
    {
     "name": "stderr",
     "output_type": "stream",
     "text": [
      "100%|██████████| 2/2 [00:23<00:00, 11.94s/it]"
     ]
    },
    {
     "name": "stdout",
     "output_type": "stream",
     "text": [
      "[   {   'classifier': MultiOutputRegressor(estimator=GradientBoostingRegressor(loss='absolute_error',\n",
      "                                                         n_estimators=60,\n",
      "                                                         random_state=42)),\n",
      "        'pipeline': Pipeline(steps=[('padhull', PadHull(n_points=100, shuffle=False)),\n",
      "                ('scaletoimage', ScaleToImage(height=1080, width=1920)),\n",
      "                ('flattencoordinates', FlattenCoordinates(n_coordinates=100))]),\n",
      "        'test_mse': 0.22714003459241738,\n",
      "        'train_mse': 0.2368451161112319},\n",
      "    {   'classifier': Ridge(random_state=42),\n",
      "        'pipeline': Pipeline(steps=[('padhull', PadHull(n_points=100, shuffle=False)),\n",
      "                ('scaletoimage', ScaleToImage(height=1080, width=1920)),\n",
      "                ('flattencoordinates', FlattenCoordinates(n_coordinates=100)),\n",
      "                ('standardscaler', StandardScaler())]),\n",
      "        'test_mse': 0.30078898266677984,\n",
      "        'train_mse': 0.2889651687130611}]\n"
     ]
    },
    {
     "name": "stderr",
     "output_type": "stream",
     "text": [
      "\n"
     ]
    }
   ],
   "source": [
    "from sklearn.linear_model import Ridge\n",
    "from sklearn.tree import DecisionTreeRegressor\n",
    "from sklearn.ensemble import GradientBoostingRegressor\n",
    "from sklearn.multioutput import MultiOutputRegressor, RegressorChain\n",
    "from sklearn.preprocessing import StandardScaler\n",
    "from sklearn.svm import SVR, LinearSVR\n",
    "from sklearn.pipeline import make_pipeline  \n",
    "from utils import fit_and_score, HardCodedEstimator, PadHull, ScaleToImage, FlattenCoordinates\n",
    "\n",
    "n_points_per_hull = 100\n",
    "image_width = 1920\n",
    "image_height = 1080\n",
    "random_state = 42\n",
    "\n",
    "scaled_pipeline = make_pipeline(PadHull(False, n_points_per_hull),\n",
    "                               ScaleToImage(image_width, image_height),\n",
    "                               FlattenCoordinates(n_points_per_hull),\n",
    "                               StandardScaler()) # ridge needs standard scaler\n",
    "\n",
    "non_scaled_pipeline = make_pipeline(PadHull(False, n_points_per_hull),\n",
    "                            ScaleToImage(image_width, image_height),\n",
    "                            FlattenCoordinates(n_points_per_hull),\n",
    "                            )\n",
    "\n",
    "\n",
    "# commented out models don't work\n",
    "regressors = [\n",
    "    (Ridge(random_state=random_state, ), scaled_pipeline),\n",
    "    #(RegressorChain(SVR()), scaled_pipeline),\n",
    "    #(MultiOutputRegressor(SVR()), scaled_pipeline),\n",
    "    #(RegressorChain(GradientBoostingRegressor(n_estimators=60, random_state=random_state)), non_scaled_pipeline),\n",
    "    (MultiOutputRegressor(GradientBoostingRegressor(n_estimators=60, random_state=random_state, loss=\"absolute_error\")), non_scaled_pipeline),\n",
    "    #(RegressorChain(LinearSVR()), scaled_pipeline),\n",
    "    # MultiOutputRegressor(LinearSVR()),0\n",
    "    #(DecisionTreeRegressor(max_depth=18, random_state=random_state), non_scaled_pipeline),\n",
    "    #(HardCodedEstimator(\"homography_matrix.json\", 4), None),\n",
    "]\n",
    "evaluation = fit_and_score(regressors, hulls, train_psis, random_state=random_state)\n",
    "pp.pprint(evaluation)\n",
    "_=joblib.dump(evaluation, \"psi_regressors.joblib\")"
   ]
  },
  {
   "cell_type": "code",
   "execution_count": 47,
   "metadata": {},
   "outputs": [],
   "source": [
    "val_psis = np.array([instance[2] for instance in iter(validation_set)])\n",
    "val_hulls = [instance[0] for instance in iter(validation_set)]"
   ]
  },
  {
   "cell_type": "code",
   "execution_count": 48,
   "metadata": {},
   "outputs": [],
   "source": [
    "def cosine_similarity(a, b):\n",
    "    cosine_similarities = (a@b.T) / (np.linalg.norm(a) * np.linalg.norm(b))\n",
    "    avg_cosine_similarity = np.mean(cosine_similarities)\n",
    "    return avg_cosine_similarity"
   ]
  },
  {
   "cell_type": "code",
   "execution_count": 49,
   "metadata": {},
   "outputs": [
    {
     "name": "stdout",
     "output_type": "stream",
     "text": [
      "Ridge(random_state=42) mse: 0.00023117828435020074\n",
      "MultiOutputRegressor(estimator=GradientBoostingRegressor(loss='absolute_error',\n",
      "                                                         n_estimators=60,\n",
      "                                                         random_state=42)) mse: 0.0006315581185109475\n"
     ]
    }
   ],
   "source": [
    "from sklearn.metrics import mean_squared_error, mean_absolute_error\n",
    "from scipy.spatial.distance import cosine\n",
    "\n",
    "# mean absollute error is better because the dataset has faulty outliers (bicyclist)\n",
    "metric = cosine_similarity\n",
    "\n",
    "loss_values = {}\n",
    "\n",
    "for (regressor, pipeline) in regressors:\n",
    "    if pipeline is None:\n",
    "        predictions = regressor.predict(val_hulls)\n",
    "        error = metric(val_psis, predictions)\n",
    "        #print(f\"{regressor} mse: {error}\")\n",
    "    else:\n",
    "        processed_hulls = pipeline.transform(val_hulls)\n",
    "        predictions = regressor.predict(processed_hulls)\n",
    "        error = metric(val_psis, predictions)\n",
    "        print(f\"{regressor} mse: {error}\")\n",
    "        if isinstance(regressor, Ridge):\n",
    "            loss_values[\"Ridge Regressor\"] = error\n",
    "        elif isinstance(regressor, MultiOutputRegressor):\n",
    "            loss_values[\"Gradient Boosting Regressor\"] = error\n"
   ]
  },
  {
   "cell_type": "code",
   "execution_count": 28,
   "metadata": {},
   "outputs": [
    {
     "ename": "ValueError",
     "evalue": "Input vector should be 1-D.",
     "output_type": "error",
     "traceback": [
      "\u001b[0;31m---------------------------------------------------------------------------\u001b[0m",
      "\u001b[0;31mValueError\u001b[0m                                Traceback (most recent call last)",
      "\u001b[1;32m/home/fivesafe/jakob/groundpointdetection/train.ipynb Cell 22\u001b[0m line \u001b[0;36m3\n\u001b[1;32m      <a href='vscode-notebook-cell:/home/fivesafe/jakob/groundpointdetection/train.ipynb#X26sZmlsZQ%3D%3D?line=0'>1</a>\u001b[0m a \u001b[39m=\u001b[39m np\u001b[39m.\u001b[39marray([\u001b[39m1\u001b[39m, \u001b[39m2\u001b[39m, \u001b[39m3\u001b[39m])\u001b[39m.\u001b[39mreshape(\u001b[39m1\u001b[39m, \u001b[39m-\u001b[39m\u001b[39m1\u001b[39m)\n\u001b[1;32m      <a href='vscode-notebook-cell:/home/fivesafe/jakob/groundpointdetection/train.ipynb#X26sZmlsZQ%3D%3D?line=1'>2</a>\u001b[0m b \u001b[39m=\u001b[39m np\u001b[39m.\u001b[39marray([\u001b[39m1\u001b[39m, \u001b[39m2\u001b[39m, \u001b[39m3\u001b[39m])\u001b[39m.\u001b[39mreshape(\u001b[39m1\u001b[39m, \u001b[39m-\u001b[39m\u001b[39m1\u001b[39m)\n\u001b[0;32m----> <a href='vscode-notebook-cell:/home/fivesafe/jakob/groundpointdetection/train.ipynb#X26sZmlsZQ%3D%3D?line=2'>3</a>\u001b[0m \u001b[39mprint\u001b[39m(cosine(a, b))\n",
      "File \u001b[0;32m~/miniconda3/envs/pytorch/lib/python3.10/site-packages/scipy/spatial/distance.py:684\u001b[0m, in \u001b[0;36mcosine\u001b[0;34m(u, v, w)\u001b[0m\n\u001b[1;32m    642\u001b[0m \u001b[39m\u001b[39m\u001b[39m\"\"\"\u001b[39;00m\n\u001b[1;32m    643\u001b[0m \u001b[39mCompute the Cosine distance between 1-D arrays.\u001b[39;00m\n\u001b[1;32m    644\u001b[0m \n\u001b[0;32m   (...)\u001b[0m\n\u001b[1;32m    679\u001b[0m \n\u001b[1;32m    680\u001b[0m \u001b[39m\"\"\"\u001b[39;00m\n\u001b[1;32m    681\u001b[0m \u001b[39m# cosine distance is also referred to as 'uncentered correlation',\u001b[39;00m\n\u001b[1;32m    682\u001b[0m \u001b[39m#   or 'reflective correlation'\u001b[39;00m\n\u001b[1;32m    683\u001b[0m \u001b[39m# clamp the result to 0-2\u001b[39;00m\n\u001b[0;32m--> 684\u001b[0m \u001b[39mreturn\u001b[39;00m \u001b[39mmax\u001b[39m(\u001b[39m0\u001b[39m, \u001b[39mmin\u001b[39m(correlation(u, v, w\u001b[39m=\u001b[39;49mw, centered\u001b[39m=\u001b[39;49m\u001b[39mFalse\u001b[39;49;00m), \u001b[39m2.0\u001b[39m))\n",
      "File \u001b[0;32m~/miniconda3/envs/pytorch/lib/python3.10/site-packages/scipy/spatial/distance.py:624\u001b[0m, in \u001b[0;36mcorrelation\u001b[0;34m(u, v, w, centered)\u001b[0m\n\u001b[1;32m    591\u001b[0m \u001b[39mdef\u001b[39;00m \u001b[39mcorrelation\u001b[39m(u, v, w\u001b[39m=\u001b[39m\u001b[39mNone\u001b[39;00m, centered\u001b[39m=\u001b[39m\u001b[39mTrue\u001b[39;00m):\n\u001b[1;32m    592\u001b[0m \u001b[39m    \u001b[39m\u001b[39m\"\"\"\u001b[39;00m\n\u001b[1;32m    593\u001b[0m \u001b[39m    Compute the correlation distance between two 1-D arrays.\u001b[39;00m\n\u001b[1;32m    594\u001b[0m \n\u001b[0;32m   (...)\u001b[0m\n\u001b[1;32m    622\u001b[0m \n\u001b[1;32m    623\u001b[0m \u001b[39m    \"\"\"\u001b[39;00m\n\u001b[0;32m--> 624\u001b[0m     u \u001b[39m=\u001b[39m _validate_vector(u)\n\u001b[1;32m    625\u001b[0m     v \u001b[39m=\u001b[39m _validate_vector(v)\n\u001b[1;32m    626\u001b[0m     \u001b[39mif\u001b[39;00m w \u001b[39mis\u001b[39;00m \u001b[39mnot\u001b[39;00m \u001b[39mNone\u001b[39;00m:\n",
      "File \u001b[0;32m~/miniconda3/envs/pytorch/lib/python3.10/site-packages/scipy/spatial/distance.py:318\u001b[0m, in \u001b[0;36m_validate_vector\u001b[0;34m(u, dtype)\u001b[0m\n\u001b[1;32m    316\u001b[0m \u001b[39mif\u001b[39;00m u\u001b[39m.\u001b[39mndim \u001b[39m==\u001b[39m \u001b[39m1\u001b[39m:\n\u001b[1;32m    317\u001b[0m     \u001b[39mreturn\u001b[39;00m u\n\u001b[0;32m--> 318\u001b[0m \u001b[39mraise\u001b[39;00m \u001b[39mValueError\u001b[39;00m(\u001b[39m\"\u001b[39m\u001b[39mInput vector should be 1-D.\u001b[39m\u001b[39m\"\u001b[39m)\n",
      "\u001b[0;31mValueError\u001b[0m: Input vector should be 1-D."
     ]
    }
   ],
   "source": [
    "a = np.array([1, 2, 3]).reshape(1, -1)\n",
    "b = np.array([1, 2, 3]).reshape(1, -1)\n",
    "print(cosine(a, b))"
   ]
  },
  {
   "cell_type": "code",
   "execution_count": null,
   "metadata": {},
   "outputs": [],
   "source": []
  }
 ],
 "metadata": {
  "kernelspec": {
   "display_name": "pytorch",
   "language": "python",
   "name": "python3"
  },
  "language_info": {
   "codemirror_mode": {
    "name": "ipython",
    "version": 3
   },
   "file_extension": ".py",
   "mimetype": "text/x-python",
   "name": "python",
   "nbconvert_exporter": "python",
   "pygments_lexer": "ipython3",
   "version": "3.10.12"
  }
 },
 "nbformat": 4,
 "nbformat_minor": 2
}

{
 "cells": [
  {
   "cell_type": "code",
   "execution_count": 70,
   "metadata": {},
   "outputs": [
    {
     "name": "stdout",
     "output_type": "stream",
     "text": [
      "The autoreload extension is already loaded. To reload it, use:\n",
      "  %reload_ext autoreload\n"
     ]
    }
   ],
   "source": [
    "from dataloader import CarlaDataset, Instance\n",
    "import numpy as np\n",
    "import torch.nn as nn\n",
    "import torch\n",
    "from torch.utils.data import DataLoader\n",
    "from torch.nn.utils.rnn import pack_sequence, unpack_sequence, pad_sequence, pad_packed_sequence\n",
    "import torch.nn.functional as F\n",
    "from copy import copy, deepcopy\n",
    "%load_ext autoreload\n",
    "%autoreload 2"
   ]
  },
  {
   "cell_type": "code",
   "execution_count": 71,
   "metadata": {},
   "outputs": [],
   "source": [
    "trainset = CarlaDataset.load_dataset(\"../datasets/train1\")\n",
    "validaionset = CarlaDataset.load_dataset(\"../datasets/train2\")"
   ]
  },
  {
   "cell_type": "code",
   "execution_count": 78,
   "metadata": {},
   "outputs": [
    {
     "data": {
      "text/plain": [
       "array([268, 526])"
      ]
     },
     "execution_count": 78,
     "metadata": {},
     "output_type": "execute_result"
    }
   ],
   "source": [
    "instances = [instance for instance in trainset]\n",
    "a = deepcopy(instances[0])\n",
    "a.gcp_pv += 1\n",
    "a.gcp_pv"
   ]
  },
  {
   "cell_type": "code",
   "execution_count": 44,
   "metadata": {},
   "outputs": [],
   "source": [
    "def my_collate(batch: list[Instance]):\n",
    "    data = [torch.tensor(item.hull_pv, dtype=torch.float32) for item in batch]\n",
    "    data = torch.nested.nested_tensor(data)\n",
    "    targets = torch.tensor([item.gcp_pv for item in batch])\n",
    "    return (data, targets)"
   ]
  },
  {
   "cell_type": "code",
   "execution_count": 45,
   "metadata": {},
   "outputs": [],
   "source": [
    "train_loader = DataLoader(trainset, batch_size=10, shuffle=True, collate_fn=my_collate)\n",
    "validation_loader = DataLoader(validaionset, batch_size=10, shuffle=True, collate_fn=my_collate)"
   ]
  },
  {
   "cell_type": "code",
   "execution_count": 46,
   "metadata": {},
   "outputs": [
    {
     "data": {
      "text/plain": [
       "torch.Size([10, 2])"
      ]
     },
     "execution_count": 46,
     "metadata": {},
     "output_type": "execute_result"
    }
   ],
   "source": [
    "batch_hulls, batch_gcps = next(iter(train_loader))\n",
    "batch_gcps.shape"
   ]
  },
  {
   "cell_type": "code",
   "execution_count": 5,
   "metadata": {},
   "outputs": [
    {
     "name": "stderr",
     "output_type": "stream",
     "text": [
      "/tmp/ipykernel_1411645/2766378237.py:6: UserWarning: The PyTorch API of nested tensors is in prototype stage and will change in the near future. (Triggered internally at /opt/conda/conda-bld/pytorch_1702400430266/work/aten/src/ATen/NestedTensorImpl.cpp:178.)\n",
      "  nested_hulls = torch.nested.nested_tensor(hulls, dtype=torch.float32)\n"
     ]
    }
   ],
   "source": [
    "gcps = np.array([instance[1] for instance in trainset])\n",
    "hulls = [instance[0] for instance in trainset]\n",
    "hulls = [torch.tensor(hull, dtype=torch.float32) for hull in hulls]\n",
    "\n",
    "gcps = torch.tensor(gcps, dtype=torch.float32)\n",
    "nested_hulls = torch.nested.nested_tensor(hulls, dtype=torch.float32)\n",
    "padded_hulls = torch.nested.to_padded_tensor(nested_hulls, padding=0.0)\n",
    "#hulls = pad_sequence(hulls, batch_first=True)"
   ]
  },
  {
   "cell_type": "code",
   "execution_count": 6,
   "metadata": {},
   "outputs": [
    {
     "data": {
      "text/plain": [
       "torch.Size([615, 3, 2])"
      ]
     },
     "execution_count": 6,
     "metadata": {},
     "output_type": "execute_result"
    }
   ],
   "source": [
    "special_token = torch.rand(3, 2, requires_grad=True)\n",
    "special_token = special_token.broadcast_to((615, 3, 2))\n",
    "special_token.shape"
   ]
  },
  {
   "cell_type": "code",
   "execution_count": 7,
   "metadata": {},
   "outputs": [
    {
     "data": {
      "text/plain": [
       "torch.Size([615, 43, 2])"
      ]
     },
     "execution_count": 7,
     "metadata": {},
     "output_type": "execute_result"
    }
   ],
   "source": [
    "torch.cat((special_token, padded_hulls), dim=1).shape"
   ]
  },
  {
   "cell_type": "code",
   "execution_count": 8,
   "metadata": {},
   "outputs": [],
   "source": [
    "encoder_layer = nn.TransformerEncoderLayer(d_model=2, nhead=2, batch_first=True)\n",
    "encoder = nn.TransformerEncoder(encoder_layer, num_layers=6)"
   ]
  },
  {
   "cell_type": "code",
   "execution_count": 9,
   "metadata": {},
   "outputs": [],
   "source": [
    "decoder_layer = nn.TransformerDecoderLayer(d_model=2, nhead=2, batch_first=True)\n",
    "decoder = nn.TransformerDecoder(decoder_layer, num_layers=6)"
   ]
  },
  {
   "cell_type": "code",
   "execution_count": 10,
   "metadata": {},
   "outputs": [
    {
     "data": {
      "text/plain": [
       "torch.Size([615, 40, 2])"
      ]
     },
     "execution_count": 10,
     "metadata": {},
     "output_type": "execute_result"
    }
   ],
   "source": [
    "output = encoder_layer(padded_hulls)\n",
    "output.shape"
   ]
  },
  {
   "cell_type": "code",
   "execution_count": 11,
   "metadata": {},
   "outputs": [],
   "source": [
    "rnn = nn.RNN(2, 32, 2, batch_first=True)"
   ]
  },
  {
   "cell_type": "code",
   "execution_count": 12,
   "metadata": {},
   "outputs": [
    {
     "ename": "AttributeError",
     "evalue": "'list' object has no attribute 'dim'",
     "output_type": "error",
     "traceback": [
      "\u001b[0;31m---------------------------------------------------------------------------\u001b[0m",
      "\u001b[0;31mAttributeError\u001b[0m                            Traceback (most recent call last)",
      "\u001b[1;32m/home/fivesafe/jakob/groundpointdetection/deep_learning.ipynb Cell 12\u001b[0m line \u001b[0;36m1\n\u001b[0;32m----> <a href='vscode-notebook-cell:/home/fivesafe/jakob/groundpointdetection/deep_learning.ipynb#X12sZmlsZQ%3D%3D?line=0'>1</a>\u001b[0m out, hidden \u001b[39m=\u001b[39m rnn(hulls)\n\u001b[1;32m      <a href='vscode-notebook-cell:/home/fivesafe/jakob/groundpointdetection/deep_learning.ipynb#X12sZmlsZQ%3D%3D?line=1'>2</a>\u001b[0m \u001b[39mprint\u001b[39m(\u001b[39mtype\u001b[39m(out), \u001b[39mtype\u001b[39m(hidden))\n\u001b[1;32m      <a href='vscode-notebook-cell:/home/fivesafe/jakob/groundpointdetection/deep_learning.ipynb#X12sZmlsZQ%3D%3D?line=2'>3</a>\u001b[0m hidden\u001b[39m.\u001b[39mshape\n",
      "File \u001b[0;32m~/miniconda3/envs/newtorch/lib/python3.11/site-packages/torch/nn/modules/module.py:1518\u001b[0m, in \u001b[0;36mModule._wrapped_call_impl\u001b[0;34m(self, *args, **kwargs)\u001b[0m\n\u001b[1;32m   1516\u001b[0m     \u001b[39mreturn\u001b[39;00m \u001b[39mself\u001b[39m\u001b[39m.\u001b[39m_compiled_call_impl(\u001b[39m*\u001b[39margs, \u001b[39m*\u001b[39m\u001b[39m*\u001b[39mkwargs)  \u001b[39m# type: ignore[misc]\u001b[39;00m\n\u001b[1;32m   1517\u001b[0m \u001b[39melse\u001b[39;00m:\n\u001b[0;32m-> 1518\u001b[0m     \u001b[39mreturn\u001b[39;00m \u001b[39mself\u001b[39;49m\u001b[39m.\u001b[39;49m_call_impl(\u001b[39m*\u001b[39;49margs, \u001b[39m*\u001b[39;49m\u001b[39m*\u001b[39;49mkwargs)\n",
      "File \u001b[0;32m~/miniconda3/envs/newtorch/lib/python3.11/site-packages/torch/nn/modules/module.py:1527\u001b[0m, in \u001b[0;36mModule._call_impl\u001b[0;34m(self, *args, **kwargs)\u001b[0m\n\u001b[1;32m   1522\u001b[0m \u001b[39m# If we don't have any hooks, we want to skip the rest of the logic in\u001b[39;00m\n\u001b[1;32m   1523\u001b[0m \u001b[39m# this function, and just call forward.\u001b[39;00m\n\u001b[1;32m   1524\u001b[0m \u001b[39mif\u001b[39;00m \u001b[39mnot\u001b[39;00m (\u001b[39mself\u001b[39m\u001b[39m.\u001b[39m_backward_hooks \u001b[39mor\u001b[39;00m \u001b[39mself\u001b[39m\u001b[39m.\u001b[39m_backward_pre_hooks \u001b[39mor\u001b[39;00m \u001b[39mself\u001b[39m\u001b[39m.\u001b[39m_forward_hooks \u001b[39mor\u001b[39;00m \u001b[39mself\u001b[39m\u001b[39m.\u001b[39m_forward_pre_hooks\n\u001b[1;32m   1525\u001b[0m         \u001b[39mor\u001b[39;00m _global_backward_pre_hooks \u001b[39mor\u001b[39;00m _global_backward_hooks\n\u001b[1;32m   1526\u001b[0m         \u001b[39mor\u001b[39;00m _global_forward_hooks \u001b[39mor\u001b[39;00m _global_forward_pre_hooks):\n\u001b[0;32m-> 1527\u001b[0m     \u001b[39mreturn\u001b[39;00m forward_call(\u001b[39m*\u001b[39;49margs, \u001b[39m*\u001b[39;49m\u001b[39m*\u001b[39;49mkwargs)\n\u001b[1;32m   1529\u001b[0m \u001b[39mtry\u001b[39;00m:\n\u001b[1;32m   1530\u001b[0m     result \u001b[39m=\u001b[39m \u001b[39mNone\u001b[39;00m\n",
      "File \u001b[0;32m~/miniconda3/envs/newtorch/lib/python3.11/site-packages/torch/nn/modules/rnn.py:521\u001b[0m, in \u001b[0;36mRNN.forward\u001b[0;34m(self, input, hx)\u001b[0m\n\u001b[1;32m    519\u001b[0m \u001b[39melse\u001b[39;00m:\n\u001b[1;32m    520\u001b[0m     batch_sizes \u001b[39m=\u001b[39m \u001b[39mNone\u001b[39;00m\n\u001b[0;32m--> 521\u001b[0m     \u001b[39mif\u001b[39;00m \u001b[39minput\u001b[39;49m\u001b[39m.\u001b[39;49mdim() \u001b[39mnot\u001b[39;00m \u001b[39min\u001b[39;00m (\u001b[39m2\u001b[39m, \u001b[39m3\u001b[39m):\n\u001b[1;32m    522\u001b[0m         \u001b[39mraise\u001b[39;00m \u001b[39mValueError\u001b[39;00m(\u001b[39mf\u001b[39m\u001b[39m\"\u001b[39m\u001b[39mRNN: Expected input to be 2D or 3D, got \u001b[39m\u001b[39m{\u001b[39;00m\u001b[39minput\u001b[39m\u001b[39m.\u001b[39mdim()\u001b[39m}\u001b[39;00m\u001b[39mD tensor instead\u001b[39m\u001b[39m\"\u001b[39m)\n\u001b[1;32m    523\u001b[0m     is_batched \u001b[39m=\u001b[39m \u001b[39minput\u001b[39m\u001b[39m.\u001b[39mdim() \u001b[39m==\u001b[39m \u001b[39m3\u001b[39m\n",
      "\u001b[0;31mAttributeError\u001b[0m: 'list' object has no attribute 'dim'"
     ]
    }
   ],
   "source": [
    "out, hidden = rnn(hulls)\n",
    "print(type(out), type(hidden))\n",
    "hidden.shape"
   ]
  },
  {
   "cell_type": "code",
   "execution_count": null,
   "metadata": {},
   "outputs": [
    {
     "ename": "NameError",
     "evalue": "name 'out' is not defined",
     "output_type": "error",
     "traceback": [
      "\u001b[0;31m---------------------------------------------------------------------------\u001b[0m",
      "\u001b[0;31mNameError\u001b[0m                                 Traceback (most recent call last)",
      "\u001b[1;32m/home/fivesafe/jakob/groundpointdetection/deep_learning.ipynb Cell 9\u001b[0m line \u001b[0;36m1\n\u001b[0;32m----> <a href='vscode-notebook-cell:/home/fivesafe/jakob/groundpointdetection/deep_learning.ipynb#X11sZmlsZQ%3D%3D?line=0'>1</a>\u001b[0m test, lens \u001b[39m=\u001b[39m pad_packed_sequence(out, batch_first\u001b[39m=\u001b[39m\u001b[39mTrue\u001b[39;00m)\n\u001b[1;32m      <a href='vscode-notebook-cell:/home/fivesafe/jakob/groundpointdetection/deep_learning.ipynb#X11sZmlsZQ%3D%3D?line=1'>2</a>\u001b[0m test\u001b[39m.\u001b[39mshape\n",
      "\u001b[0;31mNameError\u001b[0m: name 'out' is not defined"
     ]
    }
   ],
   "source": [
    "test, lens = pad_packed_sequence(out, batch_first=True)\n",
    "test.shape"
   ]
  },
  {
   "cell_type": "code",
   "execution_count": null,
   "metadata": {},
   "outputs": [
    {
     "ename": "NameError",
     "evalue": "name 'out' is not defined",
     "output_type": "error",
     "traceback": [
      "\u001b[0;31m---------------------------------------------------------------------------\u001b[0m",
      "\u001b[0;31mNameError\u001b[0m                                 Traceback (most recent call last)",
      "\u001b[1;32m/home/fivesafe/jakob/groundpointdetection/deep_learning.ipynb Cell 10\u001b[0m line \u001b[0;36m1\n\u001b[0;32m----> <a href='vscode-notebook-cell:/home/fivesafe/jakob/groundpointdetection/deep_learning.ipynb#X12sZmlsZQ%3D%3D?line=0'>1</a>\u001b[0m out[\u001b[39m4\u001b[39m]\u001b[39m.\u001b[39mshape\n",
      "\u001b[0;31mNameError\u001b[0m: name 'out' is not defined"
     ]
    }
   ],
   "source": [
    "out[4].shape"
   ]
  },
  {
   "cell_type": "code",
   "execution_count": null,
   "metadata": {},
   "outputs": [
    {
     "ename": "NameError",
     "evalue": "name 'test' is not defined",
     "output_type": "error",
     "traceback": [
      "\u001b[0;31m---------------------------------------------------------------------------\u001b[0m",
      "\u001b[0;31mNameError\u001b[0m                                 Traceback (most recent call last)",
      "\u001b[1;32m/home/fivesafe/jakob/groundpointdetection/deep_learning.ipynb Cell 11\u001b[0m line \u001b[0;36m1\n\u001b[0;32m----> <a href='vscode-notebook-cell:/home/fivesafe/jakob/groundpointdetection/deep_learning.ipynb#X13sZmlsZQ%3D%3D?line=0'>1</a>\u001b[0m pooled \u001b[39m=\u001b[39m test\u001b[39m.\u001b[39mmax(dim\u001b[39m=\u001b[39m\u001b[39m1\u001b[39m)\u001b[39m.\u001b[39mvalues\n\u001b[1;32m      <a href='vscode-notebook-cell:/home/fivesafe/jakob/groundpointdetection/deep_learning.ipynb#X13sZmlsZQ%3D%3D?line=1'>2</a>\u001b[0m pooled\u001b[39m.\u001b[39mshape\n",
      "\u001b[0;31mNameError\u001b[0m: name 'test' is not defined"
     ]
    }
   ],
   "source": [
    "pooled = test.max(dim=1).values\n",
    "pooled.shape"
   ]
  },
  {
   "cell_type": "code",
   "execution_count": null,
   "metadata": {},
   "outputs": [
    {
     "ename": "NameError",
     "evalue": "name 'out' is not defined",
     "output_type": "error",
     "traceback": [
      "\u001b[0;31m---------------------------------------------------------------------------\u001b[0m",
      "\u001b[0;31mNameError\u001b[0m                                 Traceback (most recent call last)",
      "\u001b[1;32m/home/fivesafe/jakob/groundpointdetection/deep_learning.ipynb Cell 12\u001b[0m line \u001b[0;36m1\n\u001b[0;32m----> <a href='vscode-notebook-cell:/home/fivesafe/jakob/groundpointdetection/deep_learning.ipynb#X14sZmlsZQ%3D%3D?line=0'>1</a>\u001b[0m out[\u001b[39m1\u001b[39m]\u001b[39m.\u001b[39mshape\n",
      "\u001b[0;31mNameError\u001b[0m: name 'out' is not defined"
     ]
    }
   ],
   "source": [
    "out[1].shape"
   ]
  },
  {
   "cell_type": "code",
   "execution_count": null,
   "metadata": {},
   "outputs": [],
   "source": [
    "from typing import Literal\n",
    "from torch.nn.utils.rnn import PackedSequence\n",
    "\n",
    "\n",
    "INPUT_SIZE = 2 # 2D points for each hull coordinate\n",
    "GCP_SIZE = 2 # 2D points for each GCP coordinate\n",
    "\n",
    "\n",
    "class GcpRegressor(nn.Module):\n",
    "    def __init__(self, hidden_size, num_layers):\n",
    "        super(GcpRegressor, self).__init__()\n",
    "        self.rnn = nn.RNN(INPUT_SIZE, hidden_size, num_layers, batch_first=True)\n",
    "        self.linear = nn.Linear(hidden_size, GCP_SIZE)\n",
    "\n",
    "    def forward(self, x: PackedSequence):\n",
    "        \"\"\"_summary_\n",
    "\n",
    "        Args:\n",
    "            x (_type_): _description_\n",
    "\n",
    "        Returns:\n",
    "            _type_: _description_\n",
    "        \"\"\"\n",
    "        out, _hidden = self.rnn(x)\n",
    "        out = pad_sequence(out, batch_first=True) # shape (batch_size, max_hull_len, hidden_size)\n",
    "        out = out.max(dim=1).values          \n",
    "        out = self.linear(out)\n",
    "        return out"
   ]
  },
  {
   "cell_type": "code",
   "execution_count": null,
   "metadata": {},
   "outputs": [
    {
     "data": {
      "text/plain": [
       "torch.Size([100, 40])"
      ]
     },
     "execution_count": 13,
     "metadata": {},
     "output_type": "execute_result"
    }
   ],
   "source": [
    "test = torch.rand(100, 40, 32)\n",
    "pooled = torch.nn.functional.max_pool1d(test, 32).squeeze()\n",
    "pooled.shape"
   ]
  },
  {
   "cell_type": "code",
   "execution_count": null,
   "metadata": {},
   "outputs": [],
   "source": [
    "from torch.utils.data import DataLoader\n",
    "\n",
    "def collate_fn(batch):\n",
    "    instances = torch.nested.nested_tensor([instance[0] for instance in batch], dtype=torch.float32).to_padded_tensor(0)\n",
    "    targets = torch.tensor([instance[1] for instance in batch], dtype=torch.float32)\n",
    "    \n",
    "    return instances, targets\n",
    "\n",
    "train_loader = DataLoader(trainset, batch_size=64, shuffle=True, collate_fn=collate_fn)\n",
    "val_loader = DataLoader(validaionset, batch_size=64, shuffle=True, collate_fn=collate_fn)"
   ]
  },
  {
   "cell_type": "code",
   "execution_count": null,
   "metadata": {},
   "outputs": [],
   "source": [
    "import pytorch_lightning as pl\n",
    "from typing import Any, Literal\n",
    "from pytorch_lightning.utilities.types import STEP_OUTPUT, OptimizerLRScheduler\n",
    "from scipy import optimize\n",
    "from torch.nn.utils.rnn import PackedSequence\n",
    "\n",
    "\n",
    "INPUT_SIZE = 2 # 2D points for each hull coordinate\n",
    "GCP_SIZE = 2 # 2D points for each GCP coordinate\n",
    "\n",
    "\n",
    "class GcpRegressor(pl.LightningModule):\n",
    "    def __init__(self, hidden_size, num_layers):\n",
    "        super(GcpRegressor, self).__init__()\n",
    "        self.rnn = nn.RNN(INPUT_SIZE, hidden_size, num_layers, batch_first=True)\n",
    "        self.linear = nn.Linear(hidden_size, GCP_SIZE)\n",
    "\n",
    "    def training_step(self, batch, batch_idx) -> STEP_OUTPUT:\n",
    "        x, y = batch\n",
    "        rnn_output, _hidden = self.rnn(x)\n",
    "        pooled = rnn_output.max(dim=1).values\n",
    "        linear = self.linear(pooled)\n",
    "        predictions = nn.functional.sigmoid(linear) # scale to [0, 1]\n",
    "        loss = nn.functional.mse_loss(predictions, y)\n",
    "        self.log(\"train_loss\", loss)\n",
    "        return loss\n",
    "    \n",
    "    def configure_optimizers(self) -> OptimizerLRScheduler:\n",
    "        optimizer = torch.optim.Adam(self.parameters(), lr=1)\n",
    "        return optimizer\n"
   ]
  },
  {
   "cell_type": "code",
   "execution_count": null,
   "metadata": {},
   "outputs": [],
   "source": [
    "gcp_regressor = GcpRegressor(32, 1)"
   ]
  },
  {
   "cell_type": "code",
   "execution_count": null,
   "metadata": {},
   "outputs": [
    {
     "name": "stderr",
     "output_type": "stream",
     "text": [
      "GPU available: True (cuda), used: True\n",
      "TPU available: False, using: 0 TPU cores\n",
      "IPU available: False, using: 0 IPUs\n",
      "HPU available: False, using: 0 HPUs\n",
      "LOCAL_RANK: 0 - CUDA_VISIBLE_DEVICES: [0]\n",
      "\n",
      "  | Name   | Type   | Params\n",
      "----------------------------------\n",
      "0 | rnn    | RNN    | 1.2 K \n",
      "1 | linear | Linear | 66    \n",
      "----------------------------------\n",
      "1.2 K     Trainable params\n",
      "0         Non-trainable params\n",
      "1.2 K     Total params\n",
      "0.005     Total estimated model params size (MB)\n"
     ]
    },
    {
     "data": {
      "application/vnd.jupyter.widget-view+json": {
       "model_id": "89b8134a921246d89357cb8fbd03a3dc",
       "version_major": 2,
       "version_minor": 0
      },
      "text/plain": [
       "Training: |          | 0/? [00:00<?, ?it/s]"
      ]
     },
     "metadata": {},
     "output_type": "display_data"
    },
    {
     "name": "stderr",
     "output_type": "stream",
     "text": [
      "`Trainer.fit` stopped: `max_epochs=500` reached.\n"
     ]
    }
   ],
   "source": [
    "trainer = pl.Trainer(max_epochs=500)\n",
    "trainer.fit(gcp_regressor, train_dataloaders=train_loader)"
   ]
  },
  {
   "cell_type": "code",
   "execution_count": null,
   "metadata": {},
   "outputs": [
    {
     "data": {
      "text/plain": [
       "({'a': 2, 'b': 3}, {'a': 2, 'b': 3})"
      ]
     },
     "execution_count": 25,
     "metadata": {},
     "output_type": "execute_result"
    }
   ],
   "source": [
    "class TestTransform(torch.nn.Module):\n",
    "    def __init__(self, scaler):\n",
    "        super(TestTransform, self).__init__()\n",
    "        self.scaler = scaler\n",
    "    \n",
    "    def forward(self, x):\n",
    "        x[\"a\"] += self.scaler\n",
    "        x[\"b\"] += self.scaler\n",
    "        return x\n",
    "    \n",
    "t = TestTransform(1)\n",
    "x = {\"a\": 1, \"b\": 2}\n",
    "t(x), x"
   ]
  },
  {
   "cell_type": "code",
   "execution_count": null,
   "metadata": {},
   "outputs": [
    {
     "data": {
      "text/plain": [
       "'2.0.1+cu117'"
      ]
     },
     "execution_count": 3,
     "metadata": {},
     "output_type": "execute_result"
    }
   ],
   "source": [
    "torch.__version__"
   ]
  },
  {
   "cell_type": "code",
   "execution_count": null,
   "metadata": {},
   "outputs": [],
   "source": []
  }
 ],
 "metadata": {
  "kernelspec": {
   "display_name": "pytorch",
   "language": "python",
   "name": "python3"
  },
  "language_info": {
   "codemirror_mode": {
    "name": "ipython",
    "version": 3
   },
   "file_extension": ".py",
   "mimetype": "text/x-python",
   "name": "python",
   "nbconvert_exporter": "python",
   "pygments_lexer": "ipython3",
   "version": "3.11.6"
  }
 },
 "nbformat": 4,
 "nbformat_minor": 2
}
